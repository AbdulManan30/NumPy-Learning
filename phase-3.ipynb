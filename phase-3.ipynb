{
 "cells": [
  {
   "cell_type": "markdown",
   "id": "f298413d",
   "metadata": {},
   "source": [
    "#### Real life data handling"
   ]
  },
  {
   "cell_type": "code",
   "execution_count": 2,
   "id": "a6f7cc78",
   "metadata": {},
   "outputs": [],
   "source": [
    "import numpy as np\n",
    "import matplotlib.pyplot as plt"
   ]
  },
  {
   "cell_type": "code",
   "execution_count": 6,
   "id": "ea7d9977",
   "metadata": {},
   "outputs": [
    {
     "name": "stdout",
     "output_type": "stream",
     "text": [
      "[ 9720000 11340000 13020000 14880000]\n",
      "[150000 120000 200000 180000 160000]\n",
      "[200000. 152500. 247500. 225000. 195000.]\n",
      "[[150000 330000 550000 800000]\n",
      " [120000 260000 420000 610000]\n",
      " [200000 430000 690000 990000]\n",
      " [180000 390000 630000 900000]\n",
      " [160000 345000 550000 780000]]\n",
      "['Paradise biryani' 'Beijing bites' 'Pizza hub' 'Burger point'\n",
      " 'Chai point']\n"
     ]
    }
   ],
   "source": [
    "sales_data = np.array([\n",
    "    [1, 150000, 180000, 220000, 250000],  # Paradise Biryani\n",
    "    [2, 120000, 140000, 160000, 190000],  # Beijing Bites\n",
    "    [3, 200000, 230000, 260000, 300000],  # Pizza Hub\n",
    "    [4, 180000, 210000, 240000, 270000],  # Burger Point\n",
    "    [5, 160000, 185000, 205000, 230000]   # Chai Point\n",
    "])\n",
    "# print(sales_data[:3, 1:])\n",
    "# Calculate the total sales of the year\n",
    "print(np.sum(sales_data[:, 1:], axis=0)*12)\n",
    "\n",
    "# find minimum sale in each month\n",
    "print(np.min(sales_data[:, 1:], axis=1))\n",
    "\n",
    "# find the average sales of the restuarant\n",
    "print(np.mean(sales_data[:, 1:], axis=1))\n",
    "\n",
    "# find cumsum\n",
    "print(np.cumsum(sales_data[:, 1:], axis=1)) \n",
    "\n",
    "# Vectrize\n",
    "restuarantType = np.array(['paradise Biryani', 'beijing Bites', 'Pizza Hub', 'Burger Point', 'Chai Point'])\n",
    "vactorize = np.vectorize(str.capitalize)\n",
    "print(vactorize(restuarantType))"
   ]
  }
 ],
 "metadata": {
  "kernelspec": {
   "display_name": "myenv",
   "language": "python",
   "name": "python3"
  },
  "language_info": {
   "codemirror_mode": {
    "name": "ipython",
    "version": 3
   },
   "file_extension": ".py",
   "mimetype": "text/x-python",
   "name": "python",
   "nbconvert_exporter": "python",
   "pygments_lexer": "ipython3",
   "version": "3.12.3"
  }
 },
 "nbformat": 4,
 "nbformat_minor": 5
}
