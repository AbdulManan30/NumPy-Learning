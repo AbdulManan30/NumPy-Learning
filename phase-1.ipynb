{
 "cells": [
  {
   "cell_type": "markdown",
   "id": "93004089",
   "metadata": {},
   "source": [
    "## Learn NumPy with Chai Aur Code"
   ]
  },
  {
   "cell_type": "code",
   "execution_count": 1,
   "id": "3e428d42",
   "metadata": {},
   "outputs": [],
   "source": [
    "import numpy as np"
   ]
  },
  {
   "cell_type": "markdown",
   "id": "02946559",
   "metadata": {},
   "source": [
    "#### Creating NumPy Array from list"
   ]
  },
  {
   "cell_type": "code",
   "execution_count": 3,
   "id": "90807574",
   "metadata": {},
   "outputs": [
    {
     "name": "stdout",
     "output_type": "stream",
     "text": [
      "1D Array: [1 2 3 4 5]\n",
      "2D Array:\n",
      " [[1 2 3]\n",
      " [4 5 6]]\n"
     ]
    }
   ],
   "source": [
    "arr_1d = np.array([1, 2, 3, 4, 5])\n",
    "print(\"1D Array:\", arr_1d)\n",
    "arr_2d = np.array([[1, 2, 3], [4, 5, 6]])\n",
    "print(\"2D Array:\\n\", arr_2d)"
   ]
  },
  {
   "cell_type": "markdown",
   "id": "80422ea2",
   "metadata": {},
   "source": [
    "#### What is the difference between Python List and NumPy Array"
   ]
  },
  {
   "cell_type": "code",
   "execution_count": 4,
   "id": "b0431a0a",
   "metadata": {},
   "outputs": [
    {
     "name": "stdout",
     "output_type": "stream",
     "text": [
      "Python List: [1, 2, 3, 4, 5, 1, 2, 3, 4, 5]\n",
      "NumPy Array: [ 2  4  6  8 10]\n"
     ]
    }
   ],
   "source": [
    "py_list = [1, 2, 3, 4, 5]\n",
    "print(\"Python List:\", py_list * 2)  # List multiplication\n",
    "NumPy_array = np.array(py_list)\n",
    "print(\"NumPy Array:\", NumPy_array * 2)  # NumPy array multiplication it will multiply each element by 2"
   ]
  },
  {
   "cell_type": "markdown",
   "id": "a50e3d50",
   "metadata": {},
   "source": [
    "#### Note the time Between list and array"
   ]
  },
  {
   "cell_type": "code",
   "execution_count": 48,
   "id": "1bd88280",
   "metadata": {},
   "outputs": [
    {
     "name": "stdout",
     "output_type": "stream",
     "text": [
      "Time taken for Python List: 0.02058887481689453\n",
      "Time taken for NumPy Array: 0.0009832382202148438\n"
     ]
    }
   ],
   "source": [
    "import time\n",
    "start_time = time.time()\n",
    "lst = [i for i in range(100000)]\n",
    "end_time = time.time()\n",
    "print(\"Time taken for Python List:\", end_time - start_time)\n",
    "\n",
    "start_time = time.time()\n",
    "arr = np.arange(100000)\n",
    "end_time = time.time()\n",
    "print(\"Time taken for NumPy Array:\", end_time - start_time)"
   ]
  },
  {
   "cell_type": "markdown",
   "id": "6469d8de",
   "metadata": {},
   "source": [
    "#### Creating Array from scratch"
   ]
  },
  {
   "cell_type": "code",
   "execution_count": 62,
   "id": "08f2c36f",
   "metadata": {},
   "outputs": [
    {
     "name": "stdout",
     "output_type": "stream",
     "text": [
      "Zero Array:\n",
      " [[0. 0. 0.]\n",
      " [0. 0. 0.]]\n",
      "One Array: \n",
      " [[1. 1. 1. 1.]\n",
      " [1. 1. 1. 1.]\n",
      " [1. 1. 1. 1.]]\n",
      "Full Array:\n",
      " [[7 7 7]\n",
      " [7 7 7]]\n",
      "Random Array:\n",
      " [[0.75412639 0.47262525 0.26336359]\n",
      " [0.23078209 0.48531714 0.03024329]]\n",
      "Sequence Array: [0 2 4 6 8]\n",
      "Identity Matrix:\n",
      " [[1. 0. 0.]\n",
      " [0. 1. 0.]\n",
      " [0. 0. 1.]]\n",
      "Random Integer Array:\n",
      " [[3 0 1]\n",
      " [0 0 9]]\n"
     ]
    }
   ],
   "source": [
    "# Zero-dimensional array\n",
    "zeros = np.zeros((2, 3)) # here 2 is the number of rows and 3 is the number of columns\n",
    "print(\"Zero Array:\\n\", zeros)\n",
    "\n",
    "# One-dimensional array\n",
    "ones = np.ones((3,4))  # 3 is the number of elements in the array\n",
    "print(\"One Array: \\n\", ones)\n",
    "\n",
    "# Constant-dimensional array\n",
    "full_array = np.full((2, 3), 7)  # 2 rows and 3 columns filled with 7\n",
    "print(\"Full Array:\\n\", full_array)\n",
    "\n",
    "# Random array\n",
    "random_array = np.random.random((2, 3))  # 2 rows and 3 columns with random values\n",
    "print(\"Random Array:\\n\", random_array)\n",
    "\n",
    "# Sequence array\n",
    "sequence_array = np.arange(0, 10, 2)  # Start at 0, stop at 10, step by 2\n",
    "print(\"Sequence Array:\", sequence_array)\n",
    "\n",
    "# Identity matrix\n",
    "identity_matrix = np.eye(3)  # 3x3 identity matrix\n",
    "print(\"Identity Matrix:\\n\", identity_matrix)\n",
    "\n",
    "# Randint array\n",
    "randint_array = np.random.randint(0, 10, (2, 3)) # 2 rows and 3 columns with random integers between 0 and 10\n",
    "print(\"Random Integer Array:\\n\", randint_array)"
   ]
  },
  {
   "cell_type": "markdown",
   "id": "a44f01e8",
   "metadata": {},
   "source": [
    "#### Vector, Matrix, and Tensor"
   ]
  },
  {
   "cell_type": "code",
   "execution_count": null,
   "id": "7e917377",
   "metadata": {},
   "outputs": [
    {
     "name": "stdout",
     "output_type": "stream",
     "text": [
      "Vector: [1 2 3]\n",
      "Matrix:\n",
      " [[1 2]\n",
      " [3 4]]\n",
      "Tensor:\n",
      " [[[1 2]\n",
      "  [3 4]]\n",
      "\n",
      " [[5 6]\n",
      "  [7 8]]]\n",
      "Dimensions of Tensor: 3\n"
     ]
    }
   ],
   "source": [
    "vector = np.array([1, 2, 3])  # 1D array\n",
    "print(\"Vector:\", vector)\n",
    "\n",
    "matrix = np.array([[1, 2], [3, 4]])  # 2D array\n",
    "print(\"Matrix:\\n\", matrix)\n",
    "\n",
    "tensor = np.array([[[1,2], [3,4]],\n",
    "                   [[5,6], [7,8]]])\n",
    "print(\"Tensor:\\n\", tensor)  # 3D array"
   ]
  },
  {
   "cell_type": "markdown",
   "id": "1ef5ddb2",
   "metadata": {},
   "source": [
    "#### Array Properties "
   ]
  },
  {
   "cell_type": "code",
   "execution_count": 64,
   "id": "d11f9423",
   "metadata": {},
   "outputs": [
    {
     "name": "stdout",
     "output_type": "stream",
     "text": [
      "Array Shape: (2, 3)\n",
      "Array Dimension: 2\n",
      "Array Size: 6\n",
      "Array Data Type: int64\n",
      "Array Item Size: 8\n",
      "Array Memory Layout:   C_CONTIGUOUS : True\n",
      "  F_CONTIGUOUS : False\n",
      "  OWNDATA : True\n",
      "  WRITEABLE : True\n",
      "  ALIGNED : True\n",
      "  WRITEBACKIFCOPY : False\n",
      "\n"
     ]
    }
   ],
   "source": [
    "# Array Properties\n",
    "arr = np.array([[1, 2, 3],\n",
    "                [4, 5, 6]])\n",
    "print(\"Array Shape:\", arr.shape)  # returns the shape of the array in the form (rows, columns)\n",
    "print(\"Array Dimension:\", arr.ndim)  # returns the number of dimensions\n",
    "print(\"Array Size:\", arr.size)  # returns the total number of elements in the array\n",
    "print(\"Array Data Type:\", arr.dtype)  # returns the data type of the elements in the array\n",
    "print(\"Array Item Size:\", arr.itemsize)  # returns the size of each element in bytes\n",
    "print(\"Array Memory Layout:\", arr.flags)  # returns the memory layout of the array"
   ]
  },
  {
   "cell_type": "markdown",
   "id": "086b9de4",
   "metadata": {},
   "source": [
    "#### Array Reshaping"
   ]
  },
  {
   "cell_type": "code",
   "execution_count": null,
   "id": "c7afbb2a",
   "metadata": {},
   "outputs": [
    {
     "name": "stdout",
     "output_type": "stream",
     "text": [
      "Original Array: [ 0  1  2  3  4  5  6  7  8  9 10 11]\n",
      "Reshaped Array:\n",
      " [[ 0  1  2  3]\n",
      " [ 4  5  6  7]\n",
      " [ 8  9 10 11]]\n",
      "Flattened Array: [ 0  1  2  3  4  5  6  7  8  9 10 11]\n",
      "Raveled Array: [ 0  1  2  3  4  5  6  7  8  9 10 11]\n",
      "Transposed Array:\n",
      " [[ 0  4  8]\n",
      " [ 1  5  9]\n",
      " [ 2  6 10]\n",
      " [ 3  7 11]]\n",
      "Concatenated Array:\n",
      " [[1 2]\n",
      " [3 4]\n",
      " [5 6]\n",
      " [7 8]]\n",
      "Stacked Horizontally:\n",
      " [[1 2 5 6]\n",
      " [3 4 7 8]]\n",
      "Stacked Vertically:\n",
      " [[1 2]\n",
      " [3 4]\n",
      " [5 6]\n",
      " [7 8]]\n"
     ]
    }
   ],
   "source": [
    "# Array Reshaping\n",
    "arr_2 = np.arange(12)  # Create a 1D array with 12 elements\n",
    "print(\"Original Array:\", arr_2)\n",
    "\n",
    "reshaped_arr = arr_2.reshape((3, 4))  # Reshape to 3 rows and 4 columns\n",
    "print(\"Reshaped Array:\\n\", reshaped_arr)\n",
    "\n",
    "# Flattening the array\n",
    "flattened_arr = reshaped_arr.flatten()  # Convert to 1D array\n",
    "print(\"Flattened Array:\", flattened_arr)\n",
    "\n",
    "# ravel method\n",
    "raveled_arr = reshaped_arr.ravel()  # ravel returns view instead of copy\n",
    "print(\"Raveled Array:\", raveled_arr)\n",
    "\n",
    "# Transpose the array\n",
    "transposed_arr = reshaped_arr.T  # Transpose the array\n",
    "print(\"Transposed Array:\\n\", transposed_arr)\n",
    "\n",
    "# Concatinate two arrays\n",
    "arr1 = np.array([[1, 2], [3, 4]])\n",
    "arr2 = np.array([[5, 6], [7, 8]])\n",
    "concatenated_array = np.concatenate((arr1, arr2), axis=0)  # Concatenate along rows\n",
    "print(\"Concatenated Array:\\n\", concatenated_array)\n",
    "\n",
    "# axis=0 → 🔽 down columns\n",
    "# axis=1 → ▶️  across rows\n",
    "\n",
    "# Stack horizontally and vertically\n",
    "stacked_array_h = np.hstack((arr1, arr2))  # Stack horizontally\n",
    "print(\"Stacked Horizontally:\\n\", stacked_array_h)\n",
    "stacked_array_v = np.vstack((arr1, arr2))  # Stack vertically\n",
    "print(\"Stacked Vertically:\\n\", stacked_array_v)"
   ]
  },
  {
   "cell_type": "markdown",
   "id": "2e597264",
   "metadata": {},
   "source": [
    "#### important NumPy indexing and slicing "
   ]
  },
  {
   "cell_type": "code",
   "execution_count": null,
   "id": "968e1453",
   "metadata": {},
   "outputs": [
    {
     "name": "stdout",
     "output_type": "stream",
     "text": [
      "Original Array:\n",
      " [[1 2 3]\n",
      " [4 5 6]\n",
      " [7 8 9]]\n",
      "\n",
      "Element at a[0, 1]: 2\n",
      "\n",
      "All rows, column 1:\n",
      " [2 5 8]\n",
      "\n",
      "Rows 1 to end, columns 0 and 1:\n",
      " [[4 5]\n",
      " [7 8]]\n",
      "\n",
      "Elements greater than 3:\n",
      " [4 5 6 7 8 9]\n",
      "\n",
      "Replace values > 5 with 99:\n",
      " [[ 1  2  3]\n",
      " [ 4  5 99]\n",
      " [99 99 99]]\n",
      "\n",
      "Any element > 8: True\n",
      "All elements < 10: True\n"
     ]
    }
   ],
   "source": [
    "# Create a 3x3 array\n",
    "a = np.array([[1, 2, 3],\n",
    "              [4, 5, 6],\n",
    "              [7, 8, 9]])\n",
    "\n",
    "print(\"Original Array:\\n\", a)\n",
    "\n",
    "# 1. Access specific element (row 0, column 1)\n",
    "print(\"\\nElement at a[0, 1]:\", a[0, 1])  # Output: 2\n",
    "\n",
    "# 2. Get all rows of column 1\n",
    "print(\"\\nAll rows, column 1:\\n\", a[:, 1])  # Output: [2 5 8]\n",
    "\n",
    "# 3. Slice rows 1 to end, columns 0 to 1\n",
    "print(\"\\nRows 1 to end, columns 0 and 1:\\n\", a[1:, :2])\n",
    "# Output:\n",
    "# [[4 5]\n",
    "#  [7 8]]\n",
    "\n",
    "# 4. Boolean indexing: elements greater than 3\n",
    "print(\"\\nElements greater than 3:\\n\", a[a > 3])\n",
    "# Output: [4 5 6 7 8 9]\n",
    "\n",
    "# 8. Conditional replacement (where > 5, set to 99)\n",
    "print(\"\\nReplace values > 5 with 99:\\n\", np.where(a > 5, 99, a))\n",
    "\n",
    "# 9. Check if any element > 8\n",
    "print(\"\\nAny element > 8:\", np.any(a > 8))  # True\n",
    "\n",
    "# 10. Check if all elements < 10\n",
    "print(\"All elements < 10:\", np.all(a < 10))  # True\n"
   ]
  }
 ],
 "metadata": {
  "kernelspec": {
   "display_name": "myenv",
   "language": "python",
   "name": "python3"
  },
  "language_info": {
   "codemirror_mode": {
    "name": "ipython",
    "version": 3
   },
   "file_extension": ".py",
   "mimetype": "text/x-python",
   "name": "python",
   "nbconvert_exporter": "python",
   "pygments_lexer": "ipython3",
   "version": "3.12.3"
  }
 },
 "nbformat": 4,
 "nbformat_minor": 5
}
