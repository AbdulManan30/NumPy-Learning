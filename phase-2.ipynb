{
 "cells": [
  {
   "cell_type": "markdown",
   "id": "22cb60c4",
   "metadata": {},
   "source": [
    "## NumPy Array Operations"
   ]
  },
  {
   "cell_type": "code",
   "execution_count": 9,
   "id": "b15aba26",
   "metadata": {},
   "outputs": [],
   "source": [
    "import numpy as np"
   ]
  },
  {
   "cell_type": "markdown",
   "id": "f8bc0cf9",
   "metadata": {},
   "source": [
    "#### Indexing and Slicing in NumPy"
   ]
  },
  {
   "cell_type": "code",
   "execution_count": 8,
   "id": "028de8de",
   "metadata": {},
   "outputs": [
    {
     "name": "stdout",
     "output_type": "stream",
     "text": [
      "[1 2 3]\n",
      "[1 3]\n",
      "7\n",
      "8\n",
      "[2 5 8]\n",
      "[7 8 9]\n"
     ]
    }
   ],
   "source": [
    "array = np.arange(10) # [0, 1, 2, 3, 4, 5, 6, 7, 8, 9]\n",
    "print(array[1:4])\n",
    "print(array[1:4:2])\n",
    "print(array[-3])\n",
    "\n",
    "# 2D Arrays Indexing and Slicing\n",
    "array_2d = np.array([[1, 2, 3], \n",
    "                     [4, 5, 6], \n",
    "                     [7, 8, 9]])\n",
    "print(array_2d[2,1])\n",
    "print(array_2d[:,1])\n",
    "print(array_2d[2,:])"
   ]
  },
  {
   "cell_type": "markdown",
   "id": "a5f518ec",
   "metadata": {},
   "source": [
    "#### Sorting"
   ]
  },
  {
   "cell_type": "code",
   "execution_count": 12,
   "id": "bf9c2632",
   "metadata": {},
   "outputs": [
    {
     "name": "stdout",
     "output_type": "stream",
     "text": [
      "[1 2 3 4 5]\n",
      "[[2 3 7]\n",
      " [1 4 5]\n",
      " [6 8 9]] \n",
      "\n",
      "[[1 3 4]\n",
      " [2 5 7]\n",
      " [6 9 8]]\n"
     ]
    }
   ],
   "source": [
    "unsorted = np.array([3, 1, 2, 5, 4])\n",
    "print(np.sort(unsorted))  # Sorts the array\n",
    "\n",
    "# sort 2d array\n",
    "unsorted_2d = np.array([[2,3,7],\n",
    "                        [1,5,4],\n",
    "                        [6,9,8]])\n",
    "print(np.sort(unsorted_2d, axis=1), '\\n')  # Sorts each row\n",
    "print(np.sort(unsorted_2d, axis=0))  # Sorts each column"
   ]
  },
  {
   "cell_type": "markdown",
   "id": "b5682625",
   "metadata": {},
   "source": [
    "#### Filtering"
   ]
  },
  {
   "cell_type": "code",
   "execution_count": 32,
   "id": "3b586f5e",
   "metadata": {},
   "outputs": [
    {
     "name": "stdout",
     "output_type": "stream",
     "text": [
      "[ 2 24  4  6  8 10]\n",
      "[43 24]\n",
      "[ 2 24  5]\n",
      "[43 24]\n",
      "['true' 'false' 'true' 'false' 'false' 'true' 'true' 'true' 'true' 'true']\n",
      "['true' 'false' 'true' 'false' 'false' 'true' 'true' 'true' 'true' 'true']\n"
     ]
    }
   ],
   "source": [
    "numbers = np.array([43,2,24,4,5,6,7,8,9,10])\n",
    "even_number = numbers[numbers % 2 == 0]  # Selects even numbers\n",
    "print(even_number)\n",
    "\n",
    "# Mask Filtering\n",
    "mask = numbers > 10\n",
    "print(numbers[mask])  # Selects numbers greater than 10\n",
    "\n",
    "# Fancy Indexing\n",
    "indices = [1, 2, 4]\n",
    "print(numbers[indices])  # Selects elements at indices 1, 2, and 4\n",
    "\n",
    "# Where Function\n",
    "where = np.where(numbers > 10) \n",
    "print(numbers[where])  # Returns indices of elements greater than 10\n",
    "\n",
    "changeElement = np.where(numbers > 5, 'true', 'false')\n",
    "print(changeElement)  # Changes elements greater than 4 to 100  \n",
    "# How where works\n",
    "new_arr = np.array([])  # Initialize an empty array\n",
    "for number in numbers:\n",
    "    if number > 5:\n",
    "        new_arr = np.append(new_arr, 'true')\n",
    "    else:\n",
    "        new_arr = np.append(new_arr, 'false')\n",
    "print(new_arr)  # Shows how the where function works in a loop"
   ]
  },
  {
   "cell_type": "markdown",
   "id": "d038bb46",
   "metadata": {},
   "source": [
    "#### Adding and removing data"
   ]
  },
  {
   "cell_type": "code",
   "execution_count": null,
   "id": "9d81df03",
   "metadata": {},
   "outputs": [
    {
     "name": "stdout",
     "output_type": "stream",
     "text": [
      "[ 1  2  3  4  5  6  7  8  9 10]\n",
      "[ True False False]\n"
     ]
    }
   ],
   "source": [
    "# this is wrong way in this way only element will take it as a addition operation\n",
    "arr1 = np.array([1, 2, 3, 4, 5])\n",
    "arr2 = np.array([6, 7, 8, 9, 10])\n",
    "# print(arr1 + arr2) \n",
    "\n",
    "print(np.concatenate((arr1, arr2)))\n",
    "\n",
    "# Array Compatibility\n",
    "a = np.array([1,2,3])\n",
    "b = np.array([1,2,3])\n",
    "c = np.array([1,2,3])\n",
    "print('Shape: ', a.shape == b.shape == c.shape)"
   ]
  },
  {
   "cell_type": "code",
   "execution_count": null,
   "id": "c0af3629",
   "metadata": {},
   "outputs": [
    {
     "name": "stdout",
     "output_type": "stream",
     "text": [
      "3\n"
     ]
    }
   ],
   "source": []
  }
 ],
 "metadata": {
  "kernelspec": {
   "display_name": "myenv",
   "language": "python",
   "name": "python3"
  },
  "language_info": {
   "codemirror_mode": {
    "name": "ipython",
    "version": 3
   },
   "file_extension": ".py",
   "mimetype": "text/x-python",
   "name": "python",
   "nbconvert_exporter": "python",
   "pygments_lexer": "ipython3",
   "version": "3.12.3"
  }
 },
 "nbformat": 4,
 "nbformat_minor": 5
}
